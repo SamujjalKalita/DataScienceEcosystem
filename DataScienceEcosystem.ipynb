{
 "cells": [
  {
   "cell_type": "markdown",
   "id": "d29eb6f5-0345-4276-8ad6-320a4b890c73",
   "metadata": {},
   "source": [
    "# Data Science Tools and Ecosystem"
   ]
  },
  {
   "cell_type": "markdown",
   "id": "3d0dd1e4-3c5d-4e40-b7b2-39f546d93358",
   "metadata": {},
   "source": [
    "## In this notebook, Data Science Tools and Ecosystem are summarized."
   ]
  },
  {
   "cell_type": "markdown",
   "id": "cdf9ffda-2038-4127-a227-ae3638c43505",
   "metadata": {
    "tags": []
   },
   "source": [
    "### Some of the popular languages that Data Scientists use are:\n",
    "1. Python\n",
    "2. R\n",
    "3. SQL\n",
    "4. Visual Basic"
   ]
  },
  {
   "cell_type": "markdown",
   "id": "915c217f-98ff-49de-b12e-f0e2cda8e39e",
   "metadata": {
    "tags": []
   },
   "source": [
    "### Some of the commonly used libraries used by Data Scientists include:\n",
    "1. NumPy\n",
    "2. Pandas\n",
    "3. Matplotlib\n",
    "4. Seaborn\n",
    "5. SciPy\n",
    "6. Scikit-learn\n",
    "7. TensorFlow\n",
    "8. PyTorch"
   ]
  },
  {
   "cell_type": "markdown",
   "id": "684ccfae-7476-46be-b2a7-5f077f89a8f0",
   "metadata": {},
   "source": [
    "| Data Science Tools |\n",
    "| --- |\n",
    "| Jupyter Notebook |\n",
    "| RStudio |\n",
    "| Apache Zeppelin |\n"
   ]
  },
  {
   "cell_type": "markdown",
   "id": "ddde7341-03fc-42a6-8d1d-dc394203d6b0",
   "metadata": {},
   "source": [
    "### Below are a few examples of evaluating arithmetic expressions in Python\n",
    "\n",
    "1. Addition: `3 + 4` evaluates to `7`\n",
    "2. Subtraction: `10 - 5` evaluates to `5`\n",
    "3. Multiplication: `6 * 7` evaluates to `42`\n",
    "4. Division: `8 / 2` evaluates to `4.0`"
   ]
  },
  {
   "cell_type": "markdown",
   "id": "089a9b6c-0446-4b82-b943-3cf25415f2fb",
   "metadata": {},
   "source": [
    "### Below are a few examples of evaluating arithmetic expressions in Python"
   ]
  },
  {
   "cell_type": "code",
   "execution_count": 4,
   "id": "bb21e992-124a-47e4-a687-fe6a2fddb043",
   "metadata": {
    "tags": []
   },
   "outputs": [
    {
     "data": {
      "text/plain": [
       "17"
      ]
     },
     "execution_count": 4,
     "metadata": {},
     "output_type": "execute_result"
    }
   ],
   "source": [
    "# This a simple arithmetic expression to multiply then add integers\n",
    "(3 * 4) + 5"
   ]
  },
  {
   "cell_type": "code",
   "execution_count": 6,
   "id": "0424a4bb-feb3-4209-acf4-64c6d070216a",
   "metadata": {
    "tags": []
   },
   "outputs": [
    {
     "data": {
      "text/plain": [
       "3.3333333333333335"
      ]
     },
     "execution_count": 6,
     "metadata": {},
     "output_type": "execute_result"
    }
   ],
   "source": [
    "# This will convert 200 minutes to hours by diving by 60\n",
    "200/60"
   ]
  },
  {
   "cell_type": "markdown",
   "id": "ed34fe6b-1a27-422c-a54f-6346a604a758",
   "metadata": {
    "tags": []
   },
   "source": [
    "__Objective__\n",
    "* List of popular libraries in data science\n",
    "* List of Popular languages in data science\n",
    "* List of well known data science tools\n",
    "* How to provide comments in cell"
   ]
  },
  {
   "cell_type": "markdown",
   "id": "bdab7235-ffd4-4db8-b992-8183afe49aa6",
   "metadata": {
    "tags": []
   },
   "source": [
    "## Author\n",
    "Samujjal Kalita"
   ]
  },
  {
   "cell_type": "code",
   "execution_count": null,
   "id": "cbf557c2-2e98-4e33-99b0-5c9ef3beb527",
   "metadata": {},
   "outputs": [],
   "source": []
  }
 ],
 "metadata": {
  "kernelspec": {
   "display_name": "Python",
   "language": "python",
   "name": "conda-env-python-py"
  },
  "language_info": {
   "codemirror_mode": {
    "name": "ipython",
    "version": 3
   },
   "file_extension": ".py",
   "mimetype": "text/x-python",
   "name": "python",
   "nbconvert_exporter": "python",
   "pygments_lexer": "ipython3",
   "version": "3.7.12"
  }
 },
 "nbformat": 4,
 "nbformat_minor": 5
}
